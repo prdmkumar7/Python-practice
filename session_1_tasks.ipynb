{
  "nbformat": 4,
  "nbformat_minor": 0,
  "metadata": {
    "colab": {
      "provenance": [],
      "include_colab_link": true
    },
    "kernelspec": {
      "name": "python3",
      "display_name": "Python 3"
    },
    "language_info": {
      "name": "python"
    }
  },
  "cells": [
    {
      "cell_type": "markdown",
      "metadata": {
        "id": "view-in-github",
        "colab_type": "text"
      },
      "source": [
        "<a href=\"https://colab.research.google.com/github/prdmkumar7/Python-practice/blob/main/session_1_tasks.ipynb\" target=\"_parent\"><img src=\"https://colab.research.google.com/assets/colab-badge.svg\" alt=\"Open In Colab\"/></a>"
      ]
    },
    {
      "cell_type": "markdown",
      "source": [
        "# Task : Session 1\n",
        "Solve these questions own your own and try to test yourself what you have learned in the session.\n",
        "\n",
        "Happy Learning!"
      ],
      "metadata": {
        "id": "A05OG15VqOPF"
      }
    },
    {
      "cell_type": "markdown",
      "source": [
        "### Q1 :- Print the given strings as per stated format.\n",
        "\n",
        "**Given strings**: \n",
        "```\n",
        "\"Data\" \"Science\" \"Mentorship\" \"Program\" \n",
        "\"By\" \"CampusX\"\n",
        "```\n",
        "**Output**: \n",
        "``` \n",
        "Data-Science-Mentorship-Program-started-By-CampusX\n",
        "```\n",
        "\n",
        "Concept- [Seperator and End]"
      ],
      "metadata": {
        "id": "2doIXf8bqe9_"
      }
    },
    {
      "cell_type": "code",
      "source": [
        "# Write your code here\n",
        "print(\"Data\", \"Science\", \"Mentorship\" ,\"Program\", \"By\" ,\"CampusX\", sep=\"-\")"
      ],
      "metadata": {
        "id": "-em6d3KErDtp",
        "outputId": "327f6021-69db-4fb1-ffcd-4813b7a7a8cb",
        "colab": {
          "base_uri": "https://localhost:8080/"
        }
      },
      "execution_count": 1,
      "outputs": [
        {
          "output_type": "stream",
          "name": "stdout",
          "text": [
            "Data-Science-Mentorship-Program-By-CampusX\n"
          ]
        }
      ]
    },
    {
      "cell_type": "markdown",
      "source": [
        "### Q2:- Write a program that will convert celsius value to fahrenheit."
      ],
      "metadata": {
        "id": "1KUpN7ZTrC3_"
      }
    },
    {
      "cell_type": "code",
      "source": [
        "# Write your code\n",
        "c = int(input(\"Enter the Temperature in Celcius\"))\n",
        "print(f\"{c} degree celcius in Fahrenheit is {32 + 1.8*c} \")"
      ],
      "metadata": {
        "id": "yxKYhYQiqWfj",
        "outputId": "3526be8c-ce4b-440a-8880-754f9792f229",
        "colab": {
          "base_uri": "https://localhost:8080/"
        }
      },
      "execution_count": 3,
      "outputs": [
        {
          "output_type": "stream",
          "name": "stdout",
          "text": [
            "Enter the Temperature in Celcius35\n",
            "35 degree celcius in Fahrenheit is 95.0 \n"
          ]
        }
      ]
    },
    {
      "cell_type": "markdown",
      "source": [
        "### Q3:- Take 2 numbers as input from the user.Write a program to swap the numbers without using any special python syntax."
      ],
      "metadata": {
        "id": "RLrOBBJurLB2"
      }
    },
    {
      "cell_type": "code",
      "source": [
        "# Write your code here\n",
        "a = int(input(\"Enter 1st number\"))\n",
        "b = int(input(\"Enter 2nd number\"))\n",
        "print(f\"Previous value of a and b is {a} and {b}\")\n",
        "c = a\n",
        "a = b\n",
        "b = c\n",
        "print(f\"Updated value of a and b is {a} and {b}\")\n"
      ],
      "metadata": {
        "id": "yPn7if0TrJ4F",
        "outputId": "13afe41a-e128-418f-b2b4-25188239f791",
        "colab": {
          "base_uri": "https://localhost:8080/"
        }
      },
      "execution_count": 4,
      "outputs": [
        {
          "output_type": "stream",
          "name": "stdout",
          "text": [
            "Enter 1st number2\n",
            "Enter 2nd number4\n",
            "Previous value of a and b is 2 and 4\n",
            "Updated value of a and b is 4 and 2\n"
          ]
        }
      ]
    },
    {
      "cell_type": "markdown",
      "source": [
        "### Q4:- Write a program to find the euclidean distance between two coordinates.Take both the coordinates from the user as input."
      ],
      "metadata": {
        "id": "waLCP1bjr7ML"
      }
    },
    {
      "cell_type": "code",
      "source": [
        "# Write your code here\n",
        "import math\n",
        "x1 = int(input(\"Enter the value of x1 : \"))\n",
        "y1 = int(input(\"Enter the value of y1 : \"))\n",
        "x2 = int(input(\"Enter the value of x2 : \"))\n",
        "y2 = int(input(\"Enter the value of y2 : \"))\n",
        "d = math.sqrt((x2-x1)**2 + (y2-y1)**2)\n",
        "print(f\"The euclidean distance between the two point is {d}\")"
      ],
      "metadata": {
        "id": "Pl1Sv-xnrxnH",
        "outputId": "b9e84735-8f76-4684-b722-7a2832de215c",
        "colab": {
          "base_uri": "https://localhost:8080/"
        }
      },
      "execution_count": 7,
      "outputs": [
        {
          "output_type": "stream",
          "name": "stdout",
          "text": [
            "Enter the value of x1 : 2\n",
            "Enter the value of y1 : 2\n",
            "Enter the value of x2 : 0\n",
            "Enter the value of y2 : 0\n",
            "The euclidean distance between the two point is 2.8284271247461903\n"
          ]
        }
      ]
    },
    {
      "cell_type": "markdown",
      "source": [
        "### Q5:- Write a program to find the simple interest when the value of principle,rate of interest and time period is provided by the user.\n"
      ],
      "metadata": {
        "id": "VLrhg-FRsHjR"
      }
    },
    {
      "cell_type": "code",
      "source": [
        "# Write your code here\n",
        "p = float(input(\"Enter the principle amount : \"))\n",
        "r = float(input(\"Enter the rate of simple interest : \"))\n",
        "t = float(input(\"Enter the time of interest : \"))\n",
        "si = (p*r*t)/100\n",
        "print(f\"simple interest of the amount will be {si} rupees\")"
      ],
      "metadata": {
        "id": "s40DlReZsTmY",
        "outputId": "e0eb3078-a95c-4206-870d-74f8ae41d4f1",
        "colab": {
          "base_uri": "https://localhost:8080/"
        }
      },
      "execution_count": 8,
      "outputs": [
        {
          "output_type": "stream",
          "name": "stdout",
          "text": [
            "Enter the principle amount : 20000\n",
            "Enter the rate of simple interest : 10\n",
            "Enter the time of interest : 2\n",
            "simple interest of the amount will be 4000.0 rupees\n"
          ]
        }
      ]
    },
    {
      "cell_type": "markdown",
      "source": [
        "### Q6:- Write a program that will tell the number of dogs and chicken are there when the user will provide the value of total heads and legs.\n",
        "\n",
        "For example:\n",
        "Input:\n",
        "heads -> 4\n",
        "legs -> 12\n",
        "<br>\n",
        "Output:\n",
        "dogs -> 2\n",
        "chicken -> 2\n",
        "\n",
        "\n",
        "\n"
      ],
      "metadata": {
        "id": "LMy0BTUktYKa"
      }
    },
    {
      "cell_type": "code",
      "source": [
        "# Write your code here\n",
        "heads = int(input(\"Enter the number of heads : \"))\n",
        "legs = int(input(\"Enter the number of legs : \"))\n",
        "print(f\"dogs -> {int(legs/2-heads)} , chicken -> {int(2*heads - legs/2)}\")"
      ],
      "metadata": {
        "id": "XSBvJoA4tXaG",
        "outputId": "f203d80d-4e73-4078-ab98-99aa5caa13f3",
        "colab": {
          "base_uri": "https://localhost:8080/"
        }
      },
      "execution_count": 11,
      "outputs": [
        {
          "output_type": "stream",
          "name": "stdout",
          "text": [
            "Enter the number of heads : 4\n",
            "Enter the number of legs : 12\n",
            "dogs -> 2 chicken -> 2\n"
          ]
        }
      ]
    },
    {
      "cell_type": "markdown",
      "source": [
        "### Q7:- Write a program to find the sum of squares of first n natural numbers where n will be provided by the user."
      ],
      "metadata": {
        "id": "gJ7C5kZYt4BP"
      }
    },
    {
      "cell_type": "code",
      "source": [
        "# Write your code here\n",
        "n = int(input(\"Enter the number : \"))\n",
        "print(int((n*(n+1)*(2*n+1))/ 6))"
      ],
      "metadata": {
        "id": "_tHsmEHzt2nX",
        "outputId": "ede4d60e-f2e4-4504-db27-542efe9c0a7b",
        "colab": {
          "base_uri": "https://localhost:8080/"
        }
      },
      "execution_count": 14,
      "outputs": [
        {
          "output_type": "stream",
          "name": "stdout",
          "text": [
            "Enter the number : 5\n",
            "55\n"
          ]
        }
      ]
    },
    {
      "cell_type": "markdown",
      "source": [
        "### Q8:- Given the first 2 terms of an Arithmetic Series.Find the Nth term of the series. Assume all inputs are provided by the user."
      ],
      "metadata": {
        "id": "FHrMM7g-yG1h"
      }
    },
    {
      "cell_type": "code",
      "source": [
        "# Write your code here\n",
        "i = float(input(\"Enter the first term of the Arithmetic series : \"))\n",
        "j = float(input(\"Enter the second term of the Aritmetic Series : \"))\n",
        "n = int(input(\"Enter the nth term you wanted to print : \"))\n",
        "print(i + (n-1)*(j-i))"
      ],
      "metadata": {
        "id": "go4_kmZmyVSx",
        "outputId": "f51fdedb-b2a4-4414-aa06-77630c469d46",
        "colab": {
          "base_uri": "https://localhost:8080/"
        }
      },
      "execution_count": 16,
      "outputs": [
        {
          "output_type": "stream",
          "name": "stdout",
          "text": [
            "Enter the first term of the Arithmetic series : 1.5\n",
            "Enter the second term of the Aritmetic Series : 4.6\n",
            "Enter the nth term you wanted to print : 5\n",
            "13.899999999999999\n"
          ]
        }
      ]
    },
    {
      "cell_type": "markdown",
      "source": [
        "### Q9:- Given 2 fractions, find the sum of those 2 fractions.Take the numerator and denominator values of the fractions from the user."
      ],
      "metadata": {
        "id": "QgyRX_es1oum"
      }
    },
    {
      "cell_type": "code",
      "source": [
        "# Write your code here\n",
        "n1 = int(input(\"Enter the numerator of first number : \"))\n",
        "d1 = int(input(\"Enter the denominator of first number : \"))\n",
        "n2 = int(input(\"Enter the numerator of second number : \"))\n",
        "d2 = int(input(\"Enter the denominator of second number : \"))\n",
        "print((n1*d1 + n2*d2)/(d1*d2))"
      ],
      "metadata": {
        "id": "X05xqFS1yW16",
        "outputId": "4b717f69-3b64-4db6-a360-7ca0fc89cbfb",
        "colab": {
          "base_uri": "https://localhost:8080/"
        }
      },
      "execution_count": 20,
      "outputs": [
        {
          "output_type": "stream",
          "name": "stdout",
          "text": [
            "Enter the numerator of first number : 1\n",
            "Enter the denominator of first number : 2\n",
            "Enter the numerator of second number : 1\n",
            "Enter the denominator of second number : 4\n",
            "0.75\n"
          ]
        }
      ]
    },
    {
      "cell_type": "markdown",
      "source": [
        "### Q10:- Given the height, width and breadth of a milk tank, you have to find out how many glasses of milk can be obtained? Assume all the inputs are provided by the user.\n",
        "\n",
        "\n",
        "\n",
        "Input:<br>\n",
        "Dimensions of the milk tank<br>\n",
        "H = 20cm, L = 20cm, B = 20cm\n",
        "<br><br>\n",
        "Dimensions of the glass<br>\n",
        "h = 3cm, r = 1cm"
      ],
      "metadata": {
        "id": "eaql38ln13u7"
      }
    },
    {
      "cell_type": "code",
      "source": [
        "# Write your code here\n",
        "H = float(input(\"Enter the height of milk tank : \"))\n",
        "L = float(input(\"Enter the length of milk tank : \"))\n",
        "B = float(input(\"Enter the breadth of milk tank : \"))\n",
        "vt = L*B*H\n",
        "h = float(input(\"Enter the height of glass : \"))\n",
        "r = float(input(\"Enter the radius of glass : \"))\n",
        "vg = 3.14*r*r*H\n",
        "print(f\"{int(vt/vg)} glass of milk can be obtained\")\n",
        "\n"
      ],
      "metadata": {
        "id": "FePZqno74eWv",
        "outputId": "6aa85950-5e7f-4276-9ee2-7bc5ef187bd0",
        "colab": {
          "base_uri": "https://localhost:8080/"
        }
      },
      "execution_count": 22,
      "outputs": [
        {
          "output_type": "stream",
          "name": "stdout",
          "text": [
            "Enter the height of milk tank : 20\n",
            "Enter the length of milk tank : 20\n",
            "Enter the breadth of milk tank : 20\n",
            "Enter the height of glass : 3\n",
            "Enter the radius of glass : 1\n",
            "127 glass of milk can be obtained\n"
          ]
        }
      ]
    },
    {
      "cell_type": "code",
      "source": [],
      "metadata": {
        "id": "aAal1ufZ1Njz"
      },
      "execution_count": null,
      "outputs": []
    }
  ]
}